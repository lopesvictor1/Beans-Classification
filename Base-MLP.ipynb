{
 "cells": [
  {
   "cell_type": "code",
   "execution_count": null,
   "metadata": {},
   "outputs": [],
   "source": [
    "import pandas as pd\n",
    "import seaborn as sns\n",
    "import numpy as np\n",
    "import matplotlib.pyplot as plt\n",
    "import seaborn.objects as so\n",
    "from ucimlrepo import fetch_ucirepo"
   ]
  },
  {
   "cell_type": "code",
   "execution_count": null,
   "metadata": {},
   "outputs": [],
   "source": [
    "beans = fetch_ucirepo(id=602)\n",
    "df = beans.data.features\n",
    "targets = beans.data.targets"
   ]
  },
  {
   "cell_type": "code",
   "execution_count": null,
   "metadata": {},
   "outputs": [],
   "source": [
    "cols = ['Area', 'Perimeter', 'MajorAxisLength', 'MinorAxisLength', 'AspectRatio', 'Eccentricity', 'ConvexArea', 'EquivDiameter', 'Extent', 'Solidity', 'Roundness', 'Compactness', 'ShapeFactor1', 'ShapeFactor2', 'ShapeFactor3', 'ShapeFactor4']"
   ]
  },
  {
   "cell_type": "code",
   "execution_count": null,
   "metadata": {},
   "outputs": [],
   "source": [
    "\n",
    "from sklearn.preprocessing import MinMaxScaler\n",
    "from sklearn.neural_network import MLPClassifier\n",
    "from sklearn.model_selection import cross_validate\n",
    "\n",
    "df['Class'] = targets \n",
    "scaler = MinMaxScaler()\n",
    "scaler.fit_transform(df[cols])\n",
    "df_scaled = pd.DataFrame(scaler.transform(df[cols]), columns = cols)\n",
    "\n",
    "df_scaled['Class'] = df['Class']\n",
    "df_scaled\n",
    "\n",
    "x_train = df_scaled.iloc[:, 0:16]\n",
    "y_train = df_scaled.iloc[:, 16]\n",
    "classifier = MLPClassifier(activation='logistic', solver='adam', alpha=1e-5, hidden_layer_sizes=(12, 3), random_state=1, verbose=True, learning_rate_init=0.3, tol=1e-3, max_iter=500)\n",
    "scoring = {'acc' : 'accuracy',\n",
    "           'prec' : 'precision_macro',\n",
    "           'recall' : 'recall_macro',\n",
    "           'f1' : 'f1_macro'}\n",
    "\n",
    "\n",
    "y_pred = cross_validate(classifier, x_train, y_train, cv=10, scoring=scoring, return_train_score=True)\n",
    "print('Experimento 2')\n",
    "print('Acurácia Média: ' + '%.2f' % (np.mean(y_pred['test_acc'])*100) + '%')\n",
    "print('Precisão Média: ' + '%.2f' % (np.mean(y_pred['test_prec'])*100) + '%')\n",
    "print('Revocação Média: ' + '%.2f' % (np.mean(y_pred['test_recall'])*100) + '%')\n",
    "print('F1-Score Médio: ' + '%.2f' % (np.mean(y_pred['test_f1'])*100) + '%')"
   ]
  }
 ],
 "metadata": {
  "language_info": {
   "name": "python"
  }
 },
 "nbformat": 4,
 "nbformat_minor": 2
}

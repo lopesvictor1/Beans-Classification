{
 "cells": [
  {
   "cell_type": "code",
   "execution_count": 5,
   "metadata": {},
   "outputs": [],
   "source": [
    "import pandas as pd\n",
    "import seaborn as sns\n",
    "import numpy as np\n",
    "import matplotlib.pyplot as plt\n",
    "import seaborn.objects as so\n",
    "from ucimlrepo import fetch_ucirepo"
   ]
  },
  {
   "cell_type": "code",
   "execution_count": 6,
   "metadata": {},
   "outputs": [],
   "source": [
    "beans = fetch_ucirepo(id=602)\n",
    "df = beans.data.features\n",
    "targets = beans.data.targets"
   ]
  },
  {
   "cell_type": "code",
   "execution_count": 7,
   "metadata": {},
   "outputs": [],
   "source": [
    "cols = ['Area', 'Perimeter', 'MajorAxisLength', 'MinorAxisLength', 'AspectRatio', 'Eccentricity', 'ConvexArea', 'EquivDiameter', 'Extent', 'Solidity', 'Roundness', 'Compactness', 'ShapeFactor1', 'ShapeFactor2', 'ShapeFactor3', 'ShapeFactor4']"
   ]
  },
  {
   "cell_type": "code",
   "execution_count": 8,
   "metadata": {},
   "outputs": [
    {
     "name": "stdout",
     "output_type": "stream",
     "text": [
      "Experimento 1\n",
      "Acurácia Média: 88.36%\n",
      "Precisão Média: 91.34%\n",
      "Revocação Média: 89.94%\n",
      "F1-Score Médio: 89.66%\n"
     ]
    }
   ],
   "source": [
    "#Classification with Knn-Classification\n",
    "\n",
    "from sklearn.neighbors import KNeighborsClassifier as knnc\n",
    "from sklearn.model_selection import train_test_split\n",
    "from sklearn.model_selection import cross_validate\n",
    "from sklearn import preprocessing\n",
    "from sklearn.preprocessing import MinMaxScaler\n",
    "\n",
    "df['Class'] = targets \n",
    "\n",
    "#The is scaler is used to better represent the experiments done by Koklu\n",
    "scaler = MinMaxScaler()\n",
    "scaler.fit_transform(df[cols])\n",
    "df_scaled = pd.DataFrame(scaler.transform(df[cols]), columns = cols)\n",
    "\n",
    "df_scaled['Class'] = df['Class']\n",
    "df_scaled\n",
    "\n",
    "classifier = knnc(n_neighbors=10)\n",
    "x_train = df_scaled.iloc[:, 0:16]\n",
    "y_train = df_scaled.iloc[:, 16]\n",
    "scoring = {'acc' : 'accuracy',\n",
    "           'prec' : 'precision_macro',\n",
    "           'recall' : 'recall_macro',\n",
    "           'f1' : 'f1_macro'}\n",
    "\n",
    "y_pred = cross_validate(classifier, x_train, y_train, cv=10, scoring=scoring, return_train_score=True)\n",
    "\n",
    "\n",
    "print('Experimento 1')\n",
    "print('Acurácia Média: ' + '%.2f' % (np.mean(y_pred['test_acc'])*100) + '%')\n",
    "print('Precisão Média: ' + '%.2f' % (np.mean(y_pred['test_prec'])*100) + '%')\n",
    "print('Revocação Média: ' + '%.2f' % (np.mean(y_pred['test_recall'])*100) + '%')\n",
    "print('F1-Score Médio: ' + '%.2f' % (np.mean(y_pred['test_f1'])*100) + '%')"
   ]
  }
 ],
 "metadata": {
  "kernelspec": {
   "display_name": "Python 3",
   "language": "python",
   "name": "python3"
  },
  "language_info": {
   "codemirror_mode": {
    "name": "ipython",
    "version": 3
   },
   "file_extension": ".py",
   "mimetype": "text/x-python",
   "name": "python",
   "nbconvert_exporter": "python",
   "pygments_lexer": "ipython3",
   "version": "3.8.10"
  }
 },
 "nbformat": 4,
 "nbformat_minor": 2
}
